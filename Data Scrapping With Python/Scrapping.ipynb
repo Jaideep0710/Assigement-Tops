{
 "cells": [
  {
   "cell_type": "code",
   "execution_count": 194,
   "id": "2463a171-217f-465d-9793-2f07f820166d",
   "metadata": {},
   "outputs": [],
   "source": [
    "import pandas as pd"
   ]
  },
  {
   "cell_type": "code",
   "execution_count": 196,
   "id": "dcbee140-fc23-4ba5-98d7-63d23c152188",
   "metadata": {},
   "outputs": [],
   "source": [
    "from bs4 import BeautifulSoup\n",
    "import requests"
   ]
  },
  {
   "cell_type": "code",
   "execution_count": 198,
   "id": "82e20633-11ab-4f34-bc22-e7540fcc3a4c",
   "metadata": {},
   "outputs": [
    {
     "name": "stdout",
     "output_type": "stream",
     "text": [
      "Successfull\n"
     ]
    }
   ],
   "source": [
    "URL = \"http://quotes.toscrape.com\"\n",
    "\n",
    "all_quotes = []\n",
    "\n",
    "response = requests.get(URL) \n",
    "if response.status_code != 200:\n",
    "    print(f\"Failed to fetch page\")\n",
    "else:\n",
    "    print(f\"Successfull\")\n",
    "    "
   ]
  },
  {
   "cell_type": "code",
   "execution_count": 199,
   "id": "3a62ad65-e7ed-4293-b06a-2f1f6d792508",
   "metadata": {},
   "outputs": [
    {
     "name": "stdout",
     "output_type": "stream",
     "text": [
      "                                               Quote              Author\n",
      "0  The world as we have created it is a process o...     Albert Einstein\n",
      "1  It is our choices, Harry, that show what we tr...        J.K. Rowling\n",
      "2  There are only two ways to live your life. One...     Albert Einstein\n",
      "3  The person, be it gentleman or lady, who has n...         Jane Austen\n",
      "4  Imperfection is beauty, madness is genius and ...      Marilyn Monroe\n",
      "5  Try not to become a man of success. Rather bec...     Albert Einstein\n",
      "6  It is better to be hated for what you are than...          André Gide\n",
      "7  I have not failed. I've just found 10,000 ways...    Thomas A. Edison\n",
      "8  A woman is like a tea bag; you never know how ...   Eleanor Roosevelt\n",
      "9   A day without sunshine is like, you know, night.        Steve Martin\n"
     ]
    }
   ],
   "source": [
    "soup = BeautifulSoup(response.text,'html.parser')\n",
    "\n",
    "product_card = soup.find_all('div',{\"class\":\"col-md-8\"})\n",
    "\n",
    "for card in product_card:\n",
    "    quotes = card.find_all(\"div\",{\"class\":\"quote\"})\n",
    "    for q in quotes:\n",
    "        text_lines = [line.strip() for line in q.text.split(\"\\n\") if line.strip()]\n",
    "        \n",
    "        quote_text = text_lines[0].strip(\"“”\") if text_lines else None\n",
    "        # print(quote_text)\n",
    "        \n",
    "        author = None\n",
    "        for line in text_lines:\n",
    "            if line.lower().startswith(\"by\"):\n",
    "                author = line.replace(\"by\",\"\".strip())\n",
    "                break\n",
    "        \n",
    "\n",
    "        all_quotes.append({\"Quote\": quote_text, \"Author\":author})\n",
    "        \n",
    "df = pd.DataFrame(all_quotes)\n",
    "print(df)"
   ]
  },
  {
   "cell_type": "code",
   "execution_count": 200,
   "id": "8e131e14-9cb1-4244-8e63-8238dc1b2a71",
   "metadata": {},
   "outputs": [
    {
     "data": {
      "text/html": [
       "<div>\n",
       "<style scoped>\n",
       "    .dataframe tbody tr th:only-of-type {\n",
       "        vertical-align: middle;\n",
       "    }\n",
       "\n",
       "    .dataframe tbody tr th {\n",
       "        vertical-align: top;\n",
       "    }\n",
       "\n",
       "    .dataframe thead th {\n",
       "        text-align: right;\n",
       "    }\n",
       "</style>\n",
       "<table border=\"1\" class=\"dataframe\">\n",
       "  <thead>\n",
       "    <tr style=\"text-align: right;\">\n",
       "      <th></th>\n",
       "      <th>Quote</th>\n",
       "      <th>Author</th>\n",
       "    </tr>\n",
       "  </thead>\n",
       "  <tbody>\n",
       "    <tr>\n",
       "      <th>0</th>\n",
       "      <td>The world as we have created it is a process o...</td>\n",
       "      <td>Albert Einstein</td>\n",
       "    </tr>\n",
       "    <tr>\n",
       "      <th>1</th>\n",
       "      <td>It is our choices, Harry, that show what we tr...</td>\n",
       "      <td>J.K. Rowling</td>\n",
       "    </tr>\n",
       "    <tr>\n",
       "      <th>2</th>\n",
       "      <td>There are only two ways to live your life. One...</td>\n",
       "      <td>Albert Einstein</td>\n",
       "    </tr>\n",
       "    <tr>\n",
       "      <th>3</th>\n",
       "      <td>The person, be it gentleman or lady, who has n...</td>\n",
       "      <td>Jane Austen</td>\n",
       "    </tr>\n",
       "    <tr>\n",
       "      <th>4</th>\n",
       "      <td>Imperfection is beauty, madness is genius and ...</td>\n",
       "      <td>Marilyn Monroe</td>\n",
       "    </tr>\n",
       "  </tbody>\n",
       "</table>\n",
       "</div>"
      ],
      "text/plain": [
       "                                               Quote            Author\n",
       "0  The world as we have created it is a process o...   Albert Einstein\n",
       "1  It is our choices, Harry, that show what we tr...      J.K. Rowling\n",
       "2  There are only two ways to live your life. One...   Albert Einstein\n",
       "3  The person, be it gentleman or lady, who has n...       Jane Austen\n",
       "4  Imperfection is beauty, madness is genius and ...    Marilyn Monroe"
      ]
     },
     "execution_count": 200,
     "metadata": {},
     "output_type": "execute_result"
    }
   ],
   "source": [
    "df.head()"
   ]
  },
  {
   "cell_type": "code",
   "execution_count": null,
   "id": "d2456e5d-3a74-4e61-bd0d-7d44f46128eb",
   "metadata": {},
   "outputs": [],
   "source": []
  }
 ],
 "metadata": {
  "kernelspec": {
   "display_name": "Python [conda env:base] *",
   "language": "python",
   "name": "conda-base-py"
  },
  "language_info": {
   "codemirror_mode": {
    "name": "ipython",
    "version": 3
   },
   "file_extension": ".py",
   "mimetype": "text/x-python",
   "name": "python",
   "nbconvert_exporter": "python",
   "pygments_lexer": "ipython3",
   "version": "3.12.7"
  }
 },
 "nbformat": 4,
 "nbformat_minor": 5
}
