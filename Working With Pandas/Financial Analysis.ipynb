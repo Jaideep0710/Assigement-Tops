{
 "cells": [
  {
   "cell_type": "code",
   "execution_count": 1,
   "id": "0773bed4-cb80-4733-93a8-cd63e9857d09",
   "metadata": {},
   "outputs": [],
   "source": [
    "import pandas as pd\n",
    "import numpy as np\n"
   ]
  },
  {
   "cell_type": "code",
   "execution_count": 2,
   "id": "2c065e42-1b6b-427a-a064-e006b221ce9c",
   "metadata": {},
   "outputs": [],
   "source": [
    "df = pd.read_csv(\"finance_economics_dataset.csv\")"
   ]
  },
  {
   "cell_type": "code",
   "execution_count": 3,
   "id": "3a930699-42e5-4501-94cf-cef0a84a489f",
   "metadata": {},
   "outputs": [
    {
     "data": {
      "text/html": [
       "<div>\n",
       "<style scoped>\n",
       "    .dataframe tbody tr th:only-of-type {\n",
       "        vertical-align: middle;\n",
       "    }\n",
       "\n",
       "    .dataframe tbody tr th {\n",
       "        vertical-align: top;\n",
       "    }\n",
       "\n",
       "    .dataframe thead th {\n",
       "        text-align: right;\n",
       "    }\n",
       "</style>\n",
       "<table border=\"1\" class=\"dataframe\">\n",
       "  <thead>\n",
       "    <tr style=\"text-align: right;\">\n",
       "      <th></th>\n",
       "      <th>Date</th>\n",
       "      <th>Stock Index</th>\n",
       "      <th>Open Price</th>\n",
       "      <th>Close Price</th>\n",
       "      <th>Daily High</th>\n",
       "      <th>Daily Low</th>\n",
       "      <th>Trading Volume</th>\n",
       "      <th>GDP Growth (%)</th>\n",
       "      <th>Inflation Rate (%)</th>\n",
       "      <th>Unemployment Rate (%)</th>\n",
       "      <th>...</th>\n",
       "      <th>Forex USD/EUR</th>\n",
       "      <th>Forex USD/JPY</th>\n",
       "      <th>Crude Oil Price (USD per Barrel)</th>\n",
       "      <th>Gold Price (USD per Ounce)</th>\n",
       "      <th>Real Estate Index</th>\n",
       "      <th>Retail Sales (Billion USD)</th>\n",
       "      <th>Bankruptcy Rate (%)</th>\n",
       "      <th>Mergers &amp; Acquisitions Deals</th>\n",
       "      <th>Venture Capital Funding (Billion USD)</th>\n",
       "      <th>Consumer Spending (Billion USD)</th>\n",
       "    </tr>\n",
       "  </thead>\n",
       "  <tbody>\n",
       "    <tr>\n",
       "      <th>0</th>\n",
       "      <td>2000-01-01</td>\n",
       "      <td>Dow Jones</td>\n",
       "      <td>2128.75</td>\n",
       "      <td>2138.48</td>\n",
       "      <td>2143.70</td>\n",
       "      <td>2100.55</td>\n",
       "      <td>2670411</td>\n",
       "      <td>-0.37</td>\n",
       "      <td>6.06</td>\n",
       "      <td>6.10</td>\n",
       "      <td>...</td>\n",
       "      <td>1.04</td>\n",
       "      <td>119.87</td>\n",
       "      <td>47.20</td>\n",
       "      <td>1052.34</td>\n",
       "      <td>390.23</td>\n",
       "      <td>2229</td>\n",
       "      <td>2.12</td>\n",
       "      <td>3</td>\n",
       "      <td>76.64</td>\n",
       "      <td>4589</td>\n",
       "    </tr>\n",
       "    <tr>\n",
       "      <th>1</th>\n",
       "      <td>2000-01-02</td>\n",
       "      <td>S&amp;P 500</td>\n",
       "      <td>2046.82</td>\n",
       "      <td>2036.18</td>\n",
       "      <td>2082.83</td>\n",
       "      <td>2009.53</td>\n",
       "      <td>690220415</td>\n",
       "      <td>3.19</td>\n",
       "      <td>4.95</td>\n",
       "      <td>6.62</td>\n",
       "      <td>...</td>\n",
       "      <td>1.00</td>\n",
       "      <td>98.22</td>\n",
       "      <td>52.84</td>\n",
       "      <td>1957.73</td>\n",
       "      <td>346.23</td>\n",
       "      <td>4156</td>\n",
       "      <td>1.40</td>\n",
       "      <td>21</td>\n",
       "      <td>5.67</td>\n",
       "      <td>10101</td>\n",
       "    </tr>\n",
       "    <tr>\n",
       "      <th>2</th>\n",
       "      <td>2000-01-03</td>\n",
       "      <td>Dow Jones</td>\n",
       "      <td>1987.92</td>\n",
       "      <td>1985.26</td>\n",
       "      <td>2022.28</td>\n",
       "      <td>1978.37</td>\n",
       "      <td>315284661</td>\n",
       "      <td>5.54</td>\n",
       "      <td>9.13</td>\n",
       "      <td>2.60</td>\n",
       "      <td>...</td>\n",
       "      <td>0.83</td>\n",
       "      <td>80.13</td>\n",
       "      <td>78.80</td>\n",
       "      <td>2339.49</td>\n",
       "      <td>439.46</td>\n",
       "      <td>340</td>\n",
       "      <td>0.79</td>\n",
       "      <td>48</td>\n",
       "      <td>39.43</td>\n",
       "      <td>13665</td>\n",
       "    </tr>\n",
       "    <tr>\n",
       "      <th>3</th>\n",
       "      <td>2000-01-04</td>\n",
       "      <td>Dow Jones</td>\n",
       "      <td>4625.02</td>\n",
       "      <td>4660.47</td>\n",
       "      <td>4665.26</td>\n",
       "      <td>4595.46</td>\n",
       "      <td>13098297</td>\n",
       "      <td>10.00</td>\n",
       "      <td>3.77</td>\n",
       "      <td>2.20</td>\n",
       "      <td>...</td>\n",
       "      <td>0.95</td>\n",
       "      <td>149.15</td>\n",
       "      <td>28.18</td>\n",
       "      <td>1308.54</td>\n",
       "      <td>213.07</td>\n",
       "      <td>8456</td>\n",
       "      <td>4.22</td>\n",
       "      <td>16</td>\n",
       "      <td>12.83</td>\n",
       "      <td>5192</td>\n",
       "    </tr>\n",
       "    <tr>\n",
       "      <th>4</th>\n",
       "      <td>2000-01-05</td>\n",
       "      <td>S&amp;P 500</td>\n",
       "      <td>1998.18</td>\n",
       "      <td>1982.18</td>\n",
       "      <td>2044.31</td>\n",
       "      <td>1966.44</td>\n",
       "      <td>385306746</td>\n",
       "      <td>1.53</td>\n",
       "      <td>2.20</td>\n",
       "      <td>8.20</td>\n",
       "      <td>...</td>\n",
       "      <td>1.43</td>\n",
       "      <td>113.71</td>\n",
       "      <td>92.20</td>\n",
       "      <td>2210.08</td>\n",
       "      <td>405.49</td>\n",
       "      <td>1596</td>\n",
       "      <td>2.21</td>\n",
       "      <td>34</td>\n",
       "      <td>86.37</td>\n",
       "      <td>10688</td>\n",
       "    </tr>\n",
       "  </tbody>\n",
       "</table>\n",
       "<p>5 rows × 24 columns</p>\n",
       "</div>"
      ],
      "text/plain": [
       "         Date Stock Index  Open Price  Close Price  Daily High  Daily Low  \\\n",
       "0  2000-01-01   Dow Jones     2128.75      2138.48     2143.70    2100.55   \n",
       "1  2000-01-02     S&P 500     2046.82      2036.18     2082.83    2009.53   \n",
       "2  2000-01-03   Dow Jones     1987.92      1985.26     2022.28    1978.37   \n",
       "3  2000-01-04   Dow Jones     4625.02      4660.47     4665.26    4595.46   \n",
       "4  2000-01-05     S&P 500     1998.18      1982.18     2044.31    1966.44   \n",
       "\n",
       "   Trading Volume  GDP Growth (%)  Inflation Rate (%)  Unemployment Rate (%)  \\\n",
       "0         2670411           -0.37                6.06                   6.10   \n",
       "1       690220415            3.19                4.95                   6.62   \n",
       "2       315284661            5.54                9.13                   2.60   \n",
       "3        13098297           10.00                3.77                   2.20   \n",
       "4       385306746            1.53                2.20                   8.20   \n",
       "\n",
       "   ...  Forex USD/EUR  Forex USD/JPY  Crude Oil Price (USD per Barrel)  \\\n",
       "0  ...           1.04         119.87                             47.20   \n",
       "1  ...           1.00          98.22                             52.84   \n",
       "2  ...           0.83          80.13                             78.80   \n",
       "3  ...           0.95         149.15                             28.18   \n",
       "4  ...           1.43         113.71                             92.20   \n",
       "\n",
       "   Gold Price (USD per Ounce)  Real Estate Index  Retail Sales (Billion USD)  \\\n",
       "0                     1052.34             390.23                        2229   \n",
       "1                     1957.73             346.23                        4156   \n",
       "2                     2339.49             439.46                         340   \n",
       "3                     1308.54             213.07                        8456   \n",
       "4                     2210.08             405.49                        1596   \n",
       "\n",
       "   Bankruptcy Rate (%)  Mergers & Acquisitions Deals  \\\n",
       "0                 2.12                             3   \n",
       "1                 1.40                            21   \n",
       "2                 0.79                            48   \n",
       "3                 4.22                            16   \n",
       "4                 2.21                            34   \n",
       "\n",
       "   Venture Capital Funding (Billion USD)  Consumer Spending (Billion USD)  \n",
       "0                                  76.64                             4589  \n",
       "1                                   5.67                            10101  \n",
       "2                                  39.43                            13665  \n",
       "3                                  12.83                             5192  \n",
       "4                                  86.37                            10688  \n",
       "\n",
       "[5 rows x 24 columns]"
      ]
     },
     "execution_count": 3,
     "metadata": {},
     "output_type": "execute_result"
    }
   ],
   "source": [
    "df.head()"
   ]
  },
  {
   "cell_type": "code",
   "execution_count": 4,
   "id": "bd079785-9f3f-49c3-9464-5d86c9885cec",
   "metadata": {},
   "outputs": [
    {
     "data": {
      "text/plain": [
       "(3000, 24)"
      ]
     },
     "execution_count": 4,
     "metadata": {},
     "output_type": "execute_result"
    }
   ],
   "source": [
    "df.shape"
   ]
  },
  {
   "cell_type": "code",
   "execution_count": 5,
   "id": "8215fc5e-047c-4c92-b8c8-8db2ac851153",
   "metadata": {},
   "outputs": [
    {
     "name": "stdout",
     "output_type": "stream",
     "text": [
      "<class 'pandas.core.frame.DataFrame'>\n",
      "RangeIndex: 3000 entries, 0 to 2999\n",
      "Data columns (total 24 columns):\n",
      " #   Column                                 Non-Null Count  Dtype  \n",
      "---  ------                                 --------------  -----  \n",
      " 0   Date                                   3000 non-null   object \n",
      " 1   Stock Index                            3000 non-null   object \n",
      " 2   Open Price                             3000 non-null   float64\n",
      " 3   Close Price                            3000 non-null   float64\n",
      " 4   Daily High                             3000 non-null   float64\n",
      " 5   Daily Low                              3000 non-null   float64\n",
      " 6   Trading Volume                         3000 non-null   int64  \n",
      " 7   GDP Growth (%)                         3000 non-null   float64\n",
      " 8   Inflation Rate (%)                     3000 non-null   float64\n",
      " 9   Unemployment Rate (%)                  3000 non-null   float64\n",
      " 10  Interest Rate (%)                      3000 non-null   float64\n",
      " 11  Consumer Confidence Index              3000 non-null   int64  \n",
      " 12  Government Debt (Billion USD)          3000 non-null   int64  \n",
      " 13  Corporate Profits (Billion USD)        3000 non-null   int64  \n",
      " 14  Forex USD/EUR                          3000 non-null   float64\n",
      " 15  Forex USD/JPY                          3000 non-null   float64\n",
      " 16  Crude Oil Price (USD per Barrel)       3000 non-null   float64\n",
      " 17  Gold Price (USD per Ounce)             3000 non-null   float64\n",
      " 18  Real Estate Index                      3000 non-null   float64\n",
      " 19  Retail Sales (Billion USD)             3000 non-null   int64  \n",
      " 20  Bankruptcy Rate (%)                    3000 non-null   float64\n",
      " 21  Mergers & Acquisitions Deals           3000 non-null   int64  \n",
      " 22  Venture Capital Funding (Billion USD)  3000 non-null   float64\n",
      " 23  Consumer Spending (Billion USD)        3000 non-null   int64  \n",
      "dtypes: float64(15), int64(7), object(2)\n",
      "memory usage: 562.6+ KB\n"
     ]
    }
   ],
   "source": [
    "df.info()"
   ]
  },
  {
   "cell_type": "code",
   "execution_count": 6,
   "id": "caf45f04-069e-406b-8291-06113ab4ae3f",
   "metadata": {},
   "outputs": [],
   "source": [
    "df.columns = df.columns.str.replace(\" \",\"_\")"
   ]
  },
  {
   "cell_type": "code",
   "execution_count": 7,
   "id": "61bb465b-1466-4ea4-a063-c96e0088ea62",
   "metadata": {},
   "outputs": [
    {
     "data": {
      "text/plain": [
       "Index(['Date', 'Stock_Index', 'Open_Price', 'Close_Price', 'Daily_High',\n",
       "       'Daily_Low', 'Trading_Volume', 'GDP_Growth_(%)', 'Inflation_Rate_(%)',\n",
       "       'Unemployment_Rate_(%)', 'Interest_Rate_(%)',\n",
       "       'Consumer_Confidence_Index', 'Government_Debt_(Billion_USD)',\n",
       "       'Corporate_Profits_(Billion_USD)', 'Forex_USD/EUR', 'Forex_USD/JPY',\n",
       "       'Crude_Oil_Price_(USD_per_Barrel)', 'Gold_Price_(USD_per_Ounce)',\n",
       "       'Real_Estate_Index', 'Retail_Sales_(Billion_USD)',\n",
       "       'Bankruptcy_Rate_(%)', 'Mergers_&_Acquisitions_Deals',\n",
       "       'Venture_Capital_Funding_(Billion_USD)',\n",
       "       'Consumer_Spending_(Billion_USD)'],\n",
       "      dtype='object')"
      ]
     },
     "execution_count": 7,
     "metadata": {},
     "output_type": "execute_result"
    }
   ],
   "source": [
    "df.columns"
   ]
  },
  {
   "cell_type": "code",
   "execution_count": 8,
   "id": "ddf505c0-e789-4f99-a27b-694cd64dc9c3",
   "metadata": {},
   "outputs": [
    {
     "data": {
      "text/plain": [
       "array(['Dow Jones', 'S&P 500', 'NASDAQ'], dtype=object)"
      ]
     },
     "execution_count": 8,
     "metadata": {},
     "output_type": "execute_result"
    }
   ],
   "source": [
    "df.Stock_Index.unique()"
   ]
  },
  {
   "cell_type": "code",
   "execution_count": 9,
   "id": "38f500c0-090f-46b1-81b3-10025bc4b357",
   "metadata": {},
   "outputs": [
    {
     "data": {
      "text/plain": [
       "'2000-01-01'"
      ]
     },
     "execution_count": 9,
     "metadata": {},
     "output_type": "execute_result"
    }
   ],
   "source": [
    "df['Date'].min()"
   ]
  },
  {
   "cell_type": "code",
   "execution_count": 10,
   "id": "cd77ece0-0479-43b3-8347-b06d12cd3cee",
   "metadata": {},
   "outputs": [
    {
     "data": {
      "text/plain": [
       "'2008-03-18'"
      ]
     },
     "execution_count": 10,
     "metadata": {},
     "output_type": "execute_result"
    }
   ],
   "source": [
    "df['Date'].max()"
   ]
  },
  {
   "cell_type": "code",
   "execution_count": 11,
   "id": "820c6956-2350-49c7-acd0-8b80147abdef",
   "metadata": {},
   "outputs": [
    {
     "data": {
      "text/plain": [
       "Date                                     0\n",
       "Stock_Index                              0\n",
       "Open_Price                               0\n",
       "Close_Price                              0\n",
       "Daily_High                               0\n",
       "Daily_Low                                0\n",
       "Trading_Volume                           0\n",
       "GDP_Growth_(%)                           0\n",
       "Inflation_Rate_(%)                       0\n",
       "Unemployment_Rate_(%)                    0\n",
       "Interest_Rate_(%)                        0\n",
       "Consumer_Confidence_Index                0\n",
       "Government_Debt_(Billion_USD)            0\n",
       "Corporate_Profits_(Billion_USD)          0\n",
       "Forex_USD/EUR                            0\n",
       "Forex_USD/JPY                            0\n",
       "Crude_Oil_Price_(USD_per_Barrel)         0\n",
       "Gold_Price_(USD_per_Ounce)               0\n",
       "Real_Estate_Index                        0\n",
       "Retail_Sales_(Billion_USD)               0\n",
       "Bankruptcy_Rate_(%)                      0\n",
       "Mergers_&_Acquisitions_Deals             0\n",
       "Venture_Capital_Funding_(Billion_USD)    0\n",
       "Consumer_Spending_(Billion_USD)          0\n",
       "dtype: int64"
      ]
     },
     "execution_count": 11,
     "metadata": {},
     "output_type": "execute_result"
    }
   ],
   "source": [
    "df.isnull().sum()"
   ]
  },
  {
   "cell_type": "code",
   "execution_count": 12,
   "id": "c35dcc17-b2d5-44aa-8654-0614b5dfbc32",
   "metadata": {},
   "outputs": [
    {
     "data": {
      "text/html": [
       "<div>\n",
       "<style scoped>\n",
       "    .dataframe tbody tr th:only-of-type {\n",
       "        vertical-align: middle;\n",
       "    }\n",
       "\n",
       "    .dataframe tbody tr th {\n",
       "        vertical-align: top;\n",
       "    }\n",
       "\n",
       "    .dataframe thead th {\n",
       "        text-align: right;\n",
       "    }\n",
       "</style>\n",
       "<table border=\"1\" class=\"dataframe\">\n",
       "  <thead>\n",
       "    <tr style=\"text-align: right;\">\n",
       "      <th></th>\n",
       "      <th>Date</th>\n",
       "      <th>Stock_Index</th>\n",
       "      <th>Open_Price</th>\n",
       "      <th>Close_Price</th>\n",
       "      <th>Daily_High</th>\n",
       "      <th>Daily_Low</th>\n",
       "      <th>Trading_Volume</th>\n",
       "      <th>GDP_Growth_(%)</th>\n",
       "      <th>Inflation_Rate_(%)</th>\n",
       "      <th>Unemployment_Rate_(%)</th>\n",
       "      <th>...</th>\n",
       "      <th>Forex_USD/EUR</th>\n",
       "      <th>Forex_USD/JPY</th>\n",
       "      <th>Crude_Oil_Price_(USD_per_Barrel)</th>\n",
       "      <th>Gold_Price_(USD_per_Ounce)</th>\n",
       "      <th>Real_Estate_Index</th>\n",
       "      <th>Retail_Sales_(Billion_USD)</th>\n",
       "      <th>Bankruptcy_Rate_(%)</th>\n",
       "      <th>Mergers_&amp;_Acquisitions_Deals</th>\n",
       "      <th>Venture_Capital_Funding_(Billion_USD)</th>\n",
       "      <th>Consumer_Spending_(Billion_USD)</th>\n",
       "    </tr>\n",
       "  </thead>\n",
       "  <tbody>\n",
       "  </tbody>\n",
       "</table>\n",
       "<p>0 rows × 24 columns</p>\n",
       "</div>"
      ],
      "text/plain": [
       "Empty DataFrame\n",
       "Columns: [Date, Stock_Index, Open_Price, Close_Price, Daily_High, Daily_Low, Trading_Volume, GDP_Growth_(%), Inflation_Rate_(%), Unemployment_Rate_(%), Interest_Rate_(%), Consumer_Confidence_Index, Government_Debt_(Billion_USD), Corporate_Profits_(Billion_USD), Forex_USD/EUR, Forex_USD/JPY, Crude_Oil_Price_(USD_per_Barrel), Gold_Price_(USD_per_Ounce), Real_Estate_Index, Retail_Sales_(Billion_USD), Bankruptcy_Rate_(%), Mergers_&_Acquisitions_Deals, Venture_Capital_Funding_(Billion_USD), Consumer_Spending_(Billion_USD)]\n",
       "Index: []\n",
       "\n",
       "[0 rows x 24 columns]"
      ]
     },
     "execution_count": 12,
     "metadata": {},
     "output_type": "execute_result"
    }
   ],
   "source": [
    "df[(df[[\"Open_Price\", \"Close_Price\",\"Crude_Oil_Price_(USD_per_Barrel)\"]] < 0).any(axis=1)]\n"
   ]
  },
  {
   "cell_type": "code",
   "execution_count": 13,
   "id": "b9fb1878-1802-4d83-b1a2-52c4134db124",
   "metadata": {},
   "outputs": [
    {
     "name": "stdout",
     "output_type": "stream",
     "text": [
      "Index(['Date', 'Stock_Index', 'Open_Price', 'Close_Price', 'Daily_High',\n",
      "       'Daily_Low', 'Trading_Volume', 'GDP_Growth_(%)', 'Inflation_Rate_(%)',\n",
      "       'Unemployment_Rate_(%)', 'Interest_Rate_(%)',\n",
      "       'Consumer_Confidence_Index', 'Government_Debt_(Billion_USD)',\n",
      "       'Corporate_Profits_(Billion_USD)', 'Forex_USD/EUR', 'Forex_USD/JPY',\n",
      "       'Crude_Oil_Price_(USD_per_Barrel)', 'Gold_Price_(USD_per_Ounce)',\n",
      "       'Real_Estate_Index', 'Retail_Sales_(Billion_USD)',\n",
      "       'Bankruptcy_Rate_(%)', 'Mergers_&_Acquisitions_Deals',\n",
      "       'Venture_Capital_Funding_(Billion_USD)',\n",
      "       'Consumer_Spending_(Billion_USD)'],\n",
      "      dtype='object')\n"
     ]
    }
   ],
   "source": [
    "print(df.columns)"
   ]
  },
  {
   "cell_type": "code",
   "execution_count": 14,
   "id": "0f42ab23-24b3-4815-9b9c-fc10119397d1",
   "metadata": {},
   "outputs": [
    {
     "data": {
      "text/html": [
       "<div>\n",
       "<style scoped>\n",
       "    .dataframe tbody tr th:only-of-type {\n",
       "        vertical-align: middle;\n",
       "    }\n",
       "\n",
       "    .dataframe tbody tr th {\n",
       "        vertical-align: top;\n",
       "    }\n",
       "\n",
       "    .dataframe thead th {\n",
       "        text-align: right;\n",
       "    }\n",
       "</style>\n",
       "<table border=\"1\" class=\"dataframe\">\n",
       "  <thead>\n",
       "    <tr style=\"text-align: right;\">\n",
       "      <th></th>\n",
       "      <th>Open_Price</th>\n",
       "      <th>Close_Price</th>\n",
       "      <th>Daily_High</th>\n",
       "      <th>Daily_Low</th>\n",
       "      <th>Trading_Volume</th>\n",
       "      <th>GDP_Growth_(%)</th>\n",
       "      <th>Inflation_Rate_(%)</th>\n",
       "      <th>Unemployment_Rate_(%)</th>\n",
       "      <th>Interest_Rate_(%)</th>\n",
       "      <th>Consumer_Confidence_Index</th>\n",
       "      <th>...</th>\n",
       "      <th>Forex_USD/EUR</th>\n",
       "      <th>Forex_USD/JPY</th>\n",
       "      <th>Crude_Oil_Price_(USD_per_Barrel)</th>\n",
       "      <th>Gold_Price_(USD_per_Ounce)</th>\n",
       "      <th>Real_Estate_Index</th>\n",
       "      <th>Retail_Sales_(Billion_USD)</th>\n",
       "      <th>Bankruptcy_Rate_(%)</th>\n",
       "      <th>Mergers_&amp;_Acquisitions_Deals</th>\n",
       "      <th>Venture_Capital_Funding_(Billion_USD)</th>\n",
       "      <th>Consumer_Spending_(Billion_USD)</th>\n",
       "    </tr>\n",
       "  </thead>\n",
       "  <tbody>\n",
       "    <tr>\n",
       "      <th>count</th>\n",
       "      <td>3000.000000</td>\n",
       "      <td>3000.000000</td>\n",
       "      <td>3000.000000</td>\n",
       "      <td>3000.00000</td>\n",
       "      <td>3.000000e+03</td>\n",
       "      <td>3000.000000</td>\n",
       "      <td>3000.000000</td>\n",
       "      <td>3000.000000</td>\n",
       "      <td>3000.000000</td>\n",
       "      <td>3000.000000</td>\n",
       "      <td>...</td>\n",
       "      <td>3000.000000</td>\n",
       "      <td>3000.000000</td>\n",
       "      <td>3000.000000</td>\n",
       "      <td>3000.000000</td>\n",
       "      <td>3000.000000</td>\n",
       "      <td>3000.000000</td>\n",
       "      <td>3000.000000</td>\n",
       "      <td>3000.000000</td>\n",
       "      <td>3000.000000</td>\n",
       "      <td>3000.000000</td>\n",
       "    </tr>\n",
       "    <tr>\n",
       "      <th>mean</th>\n",
       "      <td>2982.094607</td>\n",
       "      <td>2981.249173</td>\n",
       "      <td>3018.887777</td>\n",
       "      <td>2944.32975</td>\n",
       "      <td>5.033864e+08</td>\n",
       "      <td>2.608903</td>\n",
       "      <td>5.096830</td>\n",
       "      <td>8.663787</td>\n",
       "      <td>5.218237</td>\n",
       "      <td>85.036000</td>\n",
       "      <td>...</td>\n",
       "      <td>1.146113</td>\n",
       "      <td>115.115233</td>\n",
       "      <td>85.539953</td>\n",
       "      <td>1655.167877</td>\n",
       "      <td>300.554457</td>\n",
       "      <td>5099.546667</td>\n",
       "      <td>5.007413</td>\n",
       "      <td>24.598667</td>\n",
       "      <td>49.955197</td>\n",
       "      <td>7551.278000</td>\n",
       "    </tr>\n",
       "    <tr>\n",
       "      <th>std</th>\n",
       "      <td>1151.862689</td>\n",
       "      <td>1151.783841</td>\n",
       "      <td>1151.683485</td>\n",
       "      <td>1151.83490</td>\n",
       "      <td>2.859004e+08</td>\n",
       "      <td>4.287337</td>\n",
       "      <td>2.910513</td>\n",
       "      <td>3.737536</td>\n",
       "      <td>2.726115</td>\n",
       "      <td>20.224829</td>\n",
       "      <td>...</td>\n",
       "      <td>0.201128</td>\n",
       "      <td>20.111351</td>\n",
       "      <td>37.847063</td>\n",
       "      <td>492.177706</td>\n",
       "      <td>114.601328</td>\n",
       "      <td>2898.714108</td>\n",
       "      <td>2.866466</td>\n",
       "      <td>14.301344</td>\n",
       "      <td>28.722592</td>\n",
       "      <td>4203.705678</td>\n",
       "    </tr>\n",
       "    <tr>\n",
       "      <th>min</th>\n",
       "      <td>1000.050000</td>\n",
       "      <td>954.520000</td>\n",
       "      <td>1012.130000</td>\n",
       "      <td>917.17000</td>\n",
       "      <td>1.636024e+06</td>\n",
       "      <td>-5.000000</td>\n",
       "      <td>0.010000</td>\n",
       "      <td>2.000000</td>\n",
       "      <td>0.500000</td>\n",
       "      <td>50.000000</td>\n",
       "      <td>...</td>\n",
       "      <td>0.800000</td>\n",
       "      <td>80.010000</td>\n",
       "      <td>20.040000</td>\n",
       "      <td>800.160000</td>\n",
       "      <td>100.130000</td>\n",
       "      <td>107.000000</td>\n",
       "      <td>0.010000</td>\n",
       "      <td>0.000000</td>\n",
       "      <td>0.100000</td>\n",
       "      <td>101.000000</td>\n",
       "    </tr>\n",
       "    <tr>\n",
       "      <th>25%</th>\n",
       "      <td>1994.982500</td>\n",
       "      <td>1997.425000</td>\n",
       "      <td>2035.952500</td>\n",
       "      <td>1955.39750</td>\n",
       "      <td>2.545224e+08</td>\n",
       "      <td>-1.012500</td>\n",
       "      <td>2.607500</td>\n",
       "      <td>5.450000</td>\n",
       "      <td>2.890000</td>\n",
       "      <td>68.000000</td>\n",
       "      <td>...</td>\n",
       "      <td>0.980000</td>\n",
       "      <td>98.267500</td>\n",
       "      <td>52.590000</td>\n",
       "      <td>1226.737500</td>\n",
       "      <td>202.370000</td>\n",
       "      <td>2503.750000</td>\n",
       "      <td>2.570000</td>\n",
       "      <td>12.000000</td>\n",
       "      <td>25.762500</td>\n",
       "      <td>3950.750000</td>\n",
       "    </tr>\n",
       "    <tr>\n",
       "      <th>50%</th>\n",
       "      <td>2970.780000</td>\n",
       "      <td>2977.180000</td>\n",
       "      <td>3006.520000</td>\n",
       "      <td>2939.24500</td>\n",
       "      <td>5.033710e+08</td>\n",
       "      <td>2.725000</td>\n",
       "      <td>5.110000</td>\n",
       "      <td>8.710000</td>\n",
       "      <td>5.250000</td>\n",
       "      <td>86.000000</td>\n",
       "      <td>...</td>\n",
       "      <td>1.140000</td>\n",
       "      <td>114.795000</td>\n",
       "      <td>85.080000</td>\n",
       "      <td>1666.060000</td>\n",
       "      <td>299.885000</td>\n",
       "      <td>5123.500000</td>\n",
       "      <td>5.060000</td>\n",
       "      <td>25.000000</td>\n",
       "      <td>49.840000</td>\n",
       "      <td>7610.000000</td>\n",
       "    </tr>\n",
       "    <tr>\n",
       "      <th>75%</th>\n",
       "      <td>3974.690000</td>\n",
       "      <td>3982.082500</td>\n",
       "      <td>4015.217500</td>\n",
       "      <td>3934.08750</td>\n",
       "      <td>7.537963e+08</td>\n",
       "      <td>6.242500</td>\n",
       "      <td>7.600000</td>\n",
       "      <td>11.882500</td>\n",
       "      <td>7.492500</td>\n",
       "      <td>103.000000</td>\n",
       "      <td>...</td>\n",
       "      <td>1.320000</td>\n",
       "      <td>132.455000</td>\n",
       "      <td>119.150000</td>\n",
       "      <td>2080.730000</td>\n",
       "      <td>399.137500</td>\n",
       "      <td>7616.250000</td>\n",
       "      <td>7.482500</td>\n",
       "      <td>37.000000</td>\n",
       "      <td>74.825000</td>\n",
       "      <td>11148.750000</td>\n",
       "    </tr>\n",
       "    <tr>\n",
       "      <th>max</th>\n",
       "      <td>4998.230000</td>\n",
       "      <td>5034.130000</td>\n",
       "      <td>5076.190000</td>\n",
       "      <td>4977.06000</td>\n",
       "      <td>9.999771e+08</td>\n",
       "      <td>10.000000</td>\n",
       "      <td>10.000000</td>\n",
       "      <td>15.000000</td>\n",
       "      <td>10.000000</td>\n",
       "      <td>119.000000</td>\n",
       "      <td>...</td>\n",
       "      <td>1.500000</td>\n",
       "      <td>149.960000</td>\n",
       "      <td>149.870000</td>\n",
       "      <td>2499.660000</td>\n",
       "      <td>499.920000</td>\n",
       "      <td>9998.000000</td>\n",
       "      <td>10.000000</td>\n",
       "      <td>49.000000</td>\n",
       "      <td>99.990000</td>\n",
       "      <td>14990.000000</td>\n",
       "    </tr>\n",
       "  </tbody>\n",
       "</table>\n",
       "<p>8 rows × 22 columns</p>\n",
       "</div>"
      ],
      "text/plain": [
       "        Open_Price  Close_Price   Daily_High   Daily_Low  Trading_Volume  \\\n",
       "count  3000.000000  3000.000000  3000.000000  3000.00000    3.000000e+03   \n",
       "mean   2982.094607  2981.249173  3018.887777  2944.32975    5.033864e+08   \n",
       "std    1151.862689  1151.783841  1151.683485  1151.83490    2.859004e+08   \n",
       "min    1000.050000   954.520000  1012.130000   917.17000    1.636024e+06   \n",
       "25%    1994.982500  1997.425000  2035.952500  1955.39750    2.545224e+08   \n",
       "50%    2970.780000  2977.180000  3006.520000  2939.24500    5.033710e+08   \n",
       "75%    3974.690000  3982.082500  4015.217500  3934.08750    7.537963e+08   \n",
       "max    4998.230000  5034.130000  5076.190000  4977.06000    9.999771e+08   \n",
       "\n",
       "       GDP_Growth_(%)  Inflation_Rate_(%)  Unemployment_Rate_(%)  \\\n",
       "count     3000.000000         3000.000000            3000.000000   \n",
       "mean         2.608903            5.096830               8.663787   \n",
       "std          4.287337            2.910513               3.737536   \n",
       "min         -5.000000            0.010000               2.000000   \n",
       "25%         -1.012500            2.607500               5.450000   \n",
       "50%          2.725000            5.110000               8.710000   \n",
       "75%          6.242500            7.600000              11.882500   \n",
       "max         10.000000           10.000000              15.000000   \n",
       "\n",
       "       Interest_Rate_(%)  Consumer_Confidence_Index  ...  Forex_USD/EUR  \\\n",
       "count        3000.000000                3000.000000  ...    3000.000000   \n",
       "mean            5.218237                  85.036000  ...       1.146113   \n",
       "std             2.726115                  20.224829  ...       0.201128   \n",
       "min             0.500000                  50.000000  ...       0.800000   \n",
       "25%             2.890000                  68.000000  ...       0.980000   \n",
       "50%             5.250000                  86.000000  ...       1.140000   \n",
       "75%             7.492500                 103.000000  ...       1.320000   \n",
       "max            10.000000                 119.000000  ...       1.500000   \n",
       "\n",
       "       Forex_USD/JPY  Crude_Oil_Price_(USD_per_Barrel)  \\\n",
       "count    3000.000000                       3000.000000   \n",
       "mean      115.115233                         85.539953   \n",
       "std        20.111351                         37.847063   \n",
       "min        80.010000                         20.040000   \n",
       "25%        98.267500                         52.590000   \n",
       "50%       114.795000                         85.080000   \n",
       "75%       132.455000                        119.150000   \n",
       "max       149.960000                        149.870000   \n",
       "\n",
       "       Gold_Price_(USD_per_Ounce)  Real_Estate_Index  \\\n",
       "count                 3000.000000        3000.000000   \n",
       "mean                  1655.167877         300.554457   \n",
       "std                    492.177706         114.601328   \n",
       "min                    800.160000         100.130000   \n",
       "25%                   1226.737500         202.370000   \n",
       "50%                   1666.060000         299.885000   \n",
       "75%                   2080.730000         399.137500   \n",
       "max                   2499.660000         499.920000   \n",
       "\n",
       "       Retail_Sales_(Billion_USD)  Bankruptcy_Rate_(%)  \\\n",
       "count                 3000.000000          3000.000000   \n",
       "mean                  5099.546667             5.007413   \n",
       "std                   2898.714108             2.866466   \n",
       "min                    107.000000             0.010000   \n",
       "25%                   2503.750000             2.570000   \n",
       "50%                   5123.500000             5.060000   \n",
       "75%                   7616.250000             7.482500   \n",
       "max                   9998.000000            10.000000   \n",
       "\n",
       "       Mergers_&_Acquisitions_Deals  Venture_Capital_Funding_(Billion_USD)  \\\n",
       "count                   3000.000000                            3000.000000   \n",
       "mean                      24.598667                              49.955197   \n",
       "std                       14.301344                              28.722592   \n",
       "min                        0.000000                               0.100000   \n",
       "25%                       12.000000                              25.762500   \n",
       "50%                       25.000000                              49.840000   \n",
       "75%                       37.000000                              74.825000   \n",
       "max                       49.000000                              99.990000   \n",
       "\n",
       "       Consumer_Spending_(Billion_USD)  \n",
       "count                      3000.000000  \n",
       "mean                       7551.278000  \n",
       "std                        4203.705678  \n",
       "min                         101.000000  \n",
       "25%                        3950.750000  \n",
       "50%                        7610.000000  \n",
       "75%                       11148.750000  \n",
       "max                       14990.000000  \n",
       "\n",
       "[8 rows x 22 columns]"
      ]
     },
     "execution_count": 14,
     "metadata": {},
     "output_type": "execute_result"
    }
   ],
   "source": [
    "df.describe()"
   ]
  },
  {
   "cell_type": "code",
   "execution_count": 15,
   "id": "98978b8f-84ed-4e22-ab95-e41d57dd3e8b",
   "metadata": {},
   "outputs": [
    {
     "data": {
      "text/plain": [
       "0"
      ]
     },
     "execution_count": 15,
     "metadata": {},
     "output_type": "execute_result"
    }
   ],
   "source": [
    "(df[\"Trading_Volume\"]<1).sum()"
   ]
  },
  {
   "cell_type": "code",
   "execution_count": 16,
   "id": "9bc5afbc-f38b-4932-890f-01862d67b511",
   "metadata": {},
   "outputs": [
    {
     "data": {
      "text/plain": [
       "0"
      ]
     },
     "execution_count": 16,
     "metadata": {},
     "output_type": "execute_result"
    }
   ],
   "source": [
    "df.duplicated().sum()"
   ]
  },
  {
   "cell_type": "code",
   "execution_count": null,
   "id": "a138545f-c961-43af-a029-b5a5ef4d82c3",
   "metadata": {},
   "outputs": [],
   "source": []
  },
  {
   "cell_type": "code",
   "execution_count": 17,
   "id": "b7544d99-7a05-4e58-a2d2-85842e2ffcb0",
   "metadata": {},
   "outputs": [
    {
     "name": "stdout",
     "output_type": "stream",
     "text": [
      "6.2425\n",
      "-1.0125\n",
      "7.255\n",
      "Empty DataFrame\n",
      "Columns: [Date, Stock_Index, Open_Price, Close_Price, Daily_High, Daily_Low, Trading_Volume, GDP_Growth_(%), Inflation_Rate_(%), Unemployment_Rate_(%), Interest_Rate_(%), Consumer_Confidence_Index, Government_Debt_(Billion_USD), Corporate_Profits_(Billion_USD), Forex_USD/EUR, Forex_USD/JPY, Crude_Oil_Price_(USD_per_Barrel), Gold_Price_(USD_per_Ounce), Real_Estate_Index, Retail_Sales_(Billion_USD), Bankruptcy_Rate_(%), Mergers_&_Acquisitions_Deals, Venture_Capital_Funding_(Billion_USD), Consumer_Spending_(Billion_USD)]\n",
      "Index: []\n",
      "\n",
      "[0 rows x 24 columns]\n"
     ]
    }
   ],
   "source": [
    "Q1 = df['GDP_Growth_(%)'].quantile(0.25)\n",
    "Q3 = df['GDP_Growth_(%)'].quantile(0.75)\n",
    "print(Q3)\n",
    "print(Q1)\n",
    "\n",
    "IQR =Q3 - Q1\n",
    "print(IQR)\n",
    "\n",
    "outliers = df[\n",
    "                (df['GDP_Growth_(%)'] < (Q1 - 1.5 * IQR)) |\n",
    "                (df['GDP_Growth_(%)'] > (Q3 + 1.5 * IQR))\n",
    "]\n",
    "print(outliers)"
   ]
  },
  {
   "cell_type": "code",
   "execution_count": 18,
   "id": "4e3fb9d8-f459-4f22-b5fe-57c4c5f3c574",
   "metadata": {},
   "outputs": [
    {
     "name": "stdout",
     "output_type": "stream",
     "text": [
      "2080.73\n",
      "1226.7375\n",
      "853.9925000000001\n",
      "Empty DataFrame\n",
      "Columns: [Date, Stock_Index, Open_Price, Close_Price, Daily_High, Daily_Low, Trading_Volume, GDP_Growth_(%), Inflation_Rate_(%), Unemployment_Rate_(%), Interest_Rate_(%), Consumer_Confidence_Index, Government_Debt_(Billion_USD), Corporate_Profits_(Billion_USD), Forex_USD/EUR, Forex_USD/JPY, Crude_Oil_Price_(USD_per_Barrel), Gold_Price_(USD_per_Ounce), Real_Estate_Index, Retail_Sales_(Billion_USD), Bankruptcy_Rate_(%), Mergers_&_Acquisitions_Deals, Venture_Capital_Funding_(Billion_USD), Consumer_Spending_(Billion_USD)]\n",
      "Index: []\n",
      "\n",
      "[0 rows x 24 columns]\n"
     ]
    }
   ],
   "source": [
    "Q1 = df['Gold_Price_(USD_per_Ounce)'].quantile(0.25)\n",
    "Q3 = df['Gold_Price_(USD_per_Ounce)'].quantile(0.75)\n",
    "print(Q3)\n",
    "print(Q1)\n",
    "\n",
    "IQR =Q3 - Q1\n",
    "print(IQR)\n",
    "\n",
    "outliers = df[\n",
    "                (df['Gold_Price_(USD_per_Ounce)'] < (Q1 - 1.5 * IQR)) |\n",
    "                (df['Gold_Price_(USD_per_Ounce)'] > (Q3 + 1.5 * IQR))\n",
    "]\n",
    "print(outliers)"
   ]
  },
  {
   "cell_type": "code",
   "execution_count": 19,
   "id": "55a3495a-3b96-42aa-859f-6cc3302f1995",
   "metadata": {},
   "outputs": [
    {
     "data": {
      "text/html": [
       "<div>\n",
       "<style scoped>\n",
       "    .dataframe tbody tr th:only-of-type {\n",
       "        vertical-align: middle;\n",
       "    }\n",
       "\n",
       "    .dataframe tbody tr th {\n",
       "        vertical-align: top;\n",
       "    }\n",
       "\n",
       "    .dataframe thead th {\n",
       "        text-align: right;\n",
       "    }\n",
       "</style>\n",
       "<table border=\"1\" class=\"dataframe\">\n",
       "  <thead>\n",
       "    <tr style=\"text-align: right;\">\n",
       "      <th></th>\n",
       "      <th>Open_Price</th>\n",
       "      <th>Close_Price</th>\n",
       "      <th>Daily_High</th>\n",
       "      <th>Daily_Low</th>\n",
       "      <th>Trading_Volume</th>\n",
       "      <th>GDP_Growth_(%)</th>\n",
       "      <th>Inflation_Rate_(%)</th>\n",
       "      <th>Unemployment_Rate_(%)</th>\n",
       "      <th>Interest_Rate_(%)</th>\n",
       "      <th>Consumer_Confidence_Index</th>\n",
       "      <th>...</th>\n",
       "      <th>Forex_USD/EUR</th>\n",
       "      <th>Forex_USD/JPY</th>\n",
       "      <th>Crude_Oil_Price_(USD_per_Barrel)</th>\n",
       "      <th>Gold_Price_(USD_per_Ounce)</th>\n",
       "      <th>Real_Estate_Index</th>\n",
       "      <th>Retail_Sales_(Billion_USD)</th>\n",
       "      <th>Bankruptcy_Rate_(%)</th>\n",
       "      <th>Mergers_&amp;_Acquisitions_Deals</th>\n",
       "      <th>Venture_Capital_Funding_(Billion_USD)</th>\n",
       "      <th>Consumer_Spending_(Billion_USD)</th>\n",
       "    </tr>\n",
       "  </thead>\n",
       "  <tbody>\n",
       "    <tr>\n",
       "      <th>count</th>\n",
       "      <td>3000.000000</td>\n",
       "      <td>3000.000000</td>\n",
       "      <td>3000.000000</td>\n",
       "      <td>3000.00000</td>\n",
       "      <td>3.000000e+03</td>\n",
       "      <td>3000.000000</td>\n",
       "      <td>3000.000000</td>\n",
       "      <td>3000.000000</td>\n",
       "      <td>3000.000000</td>\n",
       "      <td>3000.000000</td>\n",
       "      <td>...</td>\n",
       "      <td>3000.000000</td>\n",
       "      <td>3000.000000</td>\n",
       "      <td>3000.000000</td>\n",
       "      <td>3000.000000</td>\n",
       "      <td>3000.000000</td>\n",
       "      <td>3000.000000</td>\n",
       "      <td>3000.000000</td>\n",
       "      <td>3000.000000</td>\n",
       "      <td>3000.000000</td>\n",
       "      <td>3000.000000</td>\n",
       "    </tr>\n",
       "    <tr>\n",
       "      <th>mean</th>\n",
       "      <td>2982.094607</td>\n",
       "      <td>2981.249173</td>\n",
       "      <td>3018.887777</td>\n",
       "      <td>2944.32975</td>\n",
       "      <td>5.033864e+08</td>\n",
       "      <td>2.608903</td>\n",
       "      <td>5.096830</td>\n",
       "      <td>8.663787</td>\n",
       "      <td>5.218237</td>\n",
       "      <td>85.036000</td>\n",
       "      <td>...</td>\n",
       "      <td>1.146113</td>\n",
       "      <td>115.115233</td>\n",
       "      <td>85.539953</td>\n",
       "      <td>1655.167877</td>\n",
       "      <td>300.554457</td>\n",
       "      <td>5099.546667</td>\n",
       "      <td>5.007413</td>\n",
       "      <td>24.598667</td>\n",
       "      <td>49.955197</td>\n",
       "      <td>7551.278000</td>\n",
       "    </tr>\n",
       "    <tr>\n",
       "      <th>std</th>\n",
       "      <td>1151.862689</td>\n",
       "      <td>1151.783841</td>\n",
       "      <td>1151.683485</td>\n",
       "      <td>1151.83490</td>\n",
       "      <td>2.859004e+08</td>\n",
       "      <td>4.287337</td>\n",
       "      <td>2.910513</td>\n",
       "      <td>3.737536</td>\n",
       "      <td>2.726115</td>\n",
       "      <td>20.224829</td>\n",
       "      <td>...</td>\n",
       "      <td>0.201128</td>\n",
       "      <td>20.111351</td>\n",
       "      <td>37.847063</td>\n",
       "      <td>492.177706</td>\n",
       "      <td>114.601328</td>\n",
       "      <td>2898.714108</td>\n",
       "      <td>2.866466</td>\n",
       "      <td>14.301344</td>\n",
       "      <td>28.722592</td>\n",
       "      <td>4203.705678</td>\n",
       "    </tr>\n",
       "    <tr>\n",
       "      <th>min</th>\n",
       "      <td>1000.050000</td>\n",
       "      <td>954.520000</td>\n",
       "      <td>1012.130000</td>\n",
       "      <td>917.17000</td>\n",
       "      <td>1.636024e+06</td>\n",
       "      <td>-5.000000</td>\n",
       "      <td>0.010000</td>\n",
       "      <td>2.000000</td>\n",
       "      <td>0.500000</td>\n",
       "      <td>50.000000</td>\n",
       "      <td>...</td>\n",
       "      <td>0.800000</td>\n",
       "      <td>80.010000</td>\n",
       "      <td>20.040000</td>\n",
       "      <td>800.160000</td>\n",
       "      <td>100.130000</td>\n",
       "      <td>107.000000</td>\n",
       "      <td>0.010000</td>\n",
       "      <td>0.000000</td>\n",
       "      <td>0.100000</td>\n",
       "      <td>101.000000</td>\n",
       "    </tr>\n",
       "    <tr>\n",
       "      <th>25%</th>\n",
       "      <td>1994.982500</td>\n",
       "      <td>1997.425000</td>\n",
       "      <td>2035.952500</td>\n",
       "      <td>1955.39750</td>\n",
       "      <td>2.545224e+08</td>\n",
       "      <td>-1.012500</td>\n",
       "      <td>2.607500</td>\n",
       "      <td>5.450000</td>\n",
       "      <td>2.890000</td>\n",
       "      <td>68.000000</td>\n",
       "      <td>...</td>\n",
       "      <td>0.980000</td>\n",
       "      <td>98.267500</td>\n",
       "      <td>52.590000</td>\n",
       "      <td>1226.737500</td>\n",
       "      <td>202.370000</td>\n",
       "      <td>2503.750000</td>\n",
       "      <td>2.570000</td>\n",
       "      <td>12.000000</td>\n",
       "      <td>25.762500</td>\n",
       "      <td>3950.750000</td>\n",
       "    </tr>\n",
       "    <tr>\n",
       "      <th>50%</th>\n",
       "      <td>2970.780000</td>\n",
       "      <td>2977.180000</td>\n",
       "      <td>3006.520000</td>\n",
       "      <td>2939.24500</td>\n",
       "      <td>5.033710e+08</td>\n",
       "      <td>2.725000</td>\n",
       "      <td>5.110000</td>\n",
       "      <td>8.710000</td>\n",
       "      <td>5.250000</td>\n",
       "      <td>86.000000</td>\n",
       "      <td>...</td>\n",
       "      <td>1.140000</td>\n",
       "      <td>114.795000</td>\n",
       "      <td>85.080000</td>\n",
       "      <td>1666.060000</td>\n",
       "      <td>299.885000</td>\n",
       "      <td>5123.500000</td>\n",
       "      <td>5.060000</td>\n",
       "      <td>25.000000</td>\n",
       "      <td>49.840000</td>\n",
       "      <td>7610.000000</td>\n",
       "    </tr>\n",
       "    <tr>\n",
       "      <th>75%</th>\n",
       "      <td>3974.690000</td>\n",
       "      <td>3982.082500</td>\n",
       "      <td>4015.217500</td>\n",
       "      <td>3934.08750</td>\n",
       "      <td>7.537963e+08</td>\n",
       "      <td>6.242500</td>\n",
       "      <td>7.600000</td>\n",
       "      <td>11.882500</td>\n",
       "      <td>7.492500</td>\n",
       "      <td>103.000000</td>\n",
       "      <td>...</td>\n",
       "      <td>1.320000</td>\n",
       "      <td>132.455000</td>\n",
       "      <td>119.150000</td>\n",
       "      <td>2080.730000</td>\n",
       "      <td>399.137500</td>\n",
       "      <td>7616.250000</td>\n",
       "      <td>7.482500</td>\n",
       "      <td>37.000000</td>\n",
       "      <td>74.825000</td>\n",
       "      <td>11148.750000</td>\n",
       "    </tr>\n",
       "    <tr>\n",
       "      <th>max</th>\n",
       "      <td>4998.230000</td>\n",
       "      <td>5034.130000</td>\n",
       "      <td>5076.190000</td>\n",
       "      <td>4977.06000</td>\n",
       "      <td>9.999771e+08</td>\n",
       "      <td>10.000000</td>\n",
       "      <td>10.000000</td>\n",
       "      <td>15.000000</td>\n",
       "      <td>10.000000</td>\n",
       "      <td>119.000000</td>\n",
       "      <td>...</td>\n",
       "      <td>1.500000</td>\n",
       "      <td>149.960000</td>\n",
       "      <td>149.870000</td>\n",
       "      <td>2499.660000</td>\n",
       "      <td>499.920000</td>\n",
       "      <td>9998.000000</td>\n",
       "      <td>10.000000</td>\n",
       "      <td>49.000000</td>\n",
       "      <td>99.990000</td>\n",
       "      <td>14990.000000</td>\n",
       "    </tr>\n",
       "  </tbody>\n",
       "</table>\n",
       "<p>8 rows × 22 columns</p>\n",
       "</div>"
      ],
      "text/plain": [
       "        Open_Price  Close_Price   Daily_High   Daily_Low  Trading_Volume  \\\n",
       "count  3000.000000  3000.000000  3000.000000  3000.00000    3.000000e+03   \n",
       "mean   2982.094607  2981.249173  3018.887777  2944.32975    5.033864e+08   \n",
       "std    1151.862689  1151.783841  1151.683485  1151.83490    2.859004e+08   \n",
       "min    1000.050000   954.520000  1012.130000   917.17000    1.636024e+06   \n",
       "25%    1994.982500  1997.425000  2035.952500  1955.39750    2.545224e+08   \n",
       "50%    2970.780000  2977.180000  3006.520000  2939.24500    5.033710e+08   \n",
       "75%    3974.690000  3982.082500  4015.217500  3934.08750    7.537963e+08   \n",
       "max    4998.230000  5034.130000  5076.190000  4977.06000    9.999771e+08   \n",
       "\n",
       "       GDP_Growth_(%)  Inflation_Rate_(%)  Unemployment_Rate_(%)  \\\n",
       "count     3000.000000         3000.000000            3000.000000   \n",
       "mean         2.608903            5.096830               8.663787   \n",
       "std          4.287337            2.910513               3.737536   \n",
       "min         -5.000000            0.010000               2.000000   \n",
       "25%         -1.012500            2.607500               5.450000   \n",
       "50%          2.725000            5.110000               8.710000   \n",
       "75%          6.242500            7.600000              11.882500   \n",
       "max         10.000000           10.000000              15.000000   \n",
       "\n",
       "       Interest_Rate_(%)  Consumer_Confidence_Index  ...  Forex_USD/EUR  \\\n",
       "count        3000.000000                3000.000000  ...    3000.000000   \n",
       "mean            5.218237                  85.036000  ...       1.146113   \n",
       "std             2.726115                  20.224829  ...       0.201128   \n",
       "min             0.500000                  50.000000  ...       0.800000   \n",
       "25%             2.890000                  68.000000  ...       0.980000   \n",
       "50%             5.250000                  86.000000  ...       1.140000   \n",
       "75%             7.492500                 103.000000  ...       1.320000   \n",
       "max            10.000000                 119.000000  ...       1.500000   \n",
       "\n",
       "       Forex_USD/JPY  Crude_Oil_Price_(USD_per_Barrel)  \\\n",
       "count    3000.000000                       3000.000000   \n",
       "mean      115.115233                         85.539953   \n",
       "std        20.111351                         37.847063   \n",
       "min        80.010000                         20.040000   \n",
       "25%        98.267500                         52.590000   \n",
       "50%       114.795000                         85.080000   \n",
       "75%       132.455000                        119.150000   \n",
       "max       149.960000                        149.870000   \n",
       "\n",
       "       Gold_Price_(USD_per_Ounce)  Real_Estate_Index  \\\n",
       "count                 3000.000000        3000.000000   \n",
       "mean                  1655.167877         300.554457   \n",
       "std                    492.177706         114.601328   \n",
       "min                    800.160000         100.130000   \n",
       "25%                   1226.737500         202.370000   \n",
       "50%                   1666.060000         299.885000   \n",
       "75%                   2080.730000         399.137500   \n",
       "max                   2499.660000         499.920000   \n",
       "\n",
       "       Retail_Sales_(Billion_USD)  Bankruptcy_Rate_(%)  \\\n",
       "count                 3000.000000          3000.000000   \n",
       "mean                  5099.546667             5.007413   \n",
       "std                   2898.714108             2.866466   \n",
       "min                    107.000000             0.010000   \n",
       "25%                   2503.750000             2.570000   \n",
       "50%                   5123.500000             5.060000   \n",
       "75%                   7616.250000             7.482500   \n",
       "max                   9998.000000            10.000000   \n",
       "\n",
       "       Mergers_&_Acquisitions_Deals  Venture_Capital_Funding_(Billion_USD)  \\\n",
       "count                   3000.000000                            3000.000000   \n",
       "mean                      24.598667                              49.955197   \n",
       "std                       14.301344                              28.722592   \n",
       "min                        0.000000                               0.100000   \n",
       "25%                       12.000000                              25.762500   \n",
       "50%                       25.000000                              49.840000   \n",
       "75%                       37.000000                              74.825000   \n",
       "max                       49.000000                              99.990000   \n",
       "\n",
       "       Consumer_Spending_(Billion_USD)  \n",
       "count                      3000.000000  \n",
       "mean                       7551.278000  \n",
       "std                        4203.705678  \n",
       "min                         101.000000  \n",
       "25%                        3950.750000  \n",
       "50%                        7610.000000  \n",
       "75%                       11148.750000  \n",
       "max                       14990.000000  \n",
       "\n",
       "[8 rows x 22 columns]"
      ]
     },
     "execution_count": 19,
     "metadata": {},
     "output_type": "execute_result"
    }
   ],
   "source": [
    "df.describe()"
   ]
  },
  {
   "cell_type": "code",
   "execution_count": 20,
   "id": "57028b9e-6b93-4ef2-9729-225ea0015ac9",
   "metadata": {},
   "outputs": [
    {
     "data": {
      "text/html": [
       "<div>\n",
       "<style scoped>\n",
       "    .dataframe tbody tr th:only-of-type {\n",
       "        vertical-align: middle;\n",
       "    }\n",
       "\n",
       "    .dataframe tbody tr th {\n",
       "        vertical-align: top;\n",
       "    }\n",
       "\n",
       "    .dataframe thead th {\n",
       "        text-align: right;\n",
       "    }\n",
       "</style>\n",
       "<table border=\"1\" class=\"dataframe\">\n",
       "  <thead>\n",
       "    <tr style=\"text-align: right;\">\n",
       "      <th></th>\n",
       "      <th>Date</th>\n",
       "      <th>Stock_Index</th>\n",
       "      <th>Open_Price</th>\n",
       "      <th>Close_Price</th>\n",
       "      <th>Daily_High</th>\n",
       "      <th>Daily_Low</th>\n",
       "      <th>Trading_Volume</th>\n",
       "      <th>GDP_Growth_(%)</th>\n",
       "      <th>Inflation_Rate_(%)</th>\n",
       "      <th>Unemployment_Rate_(%)</th>\n",
       "      <th>...</th>\n",
       "      <th>Forex_USD/EUR</th>\n",
       "      <th>Forex_USD/JPY</th>\n",
       "      <th>Crude_Oil_Price_(USD_per_Barrel)</th>\n",
       "      <th>Gold_Price_(USD_per_Ounce)</th>\n",
       "      <th>Real_Estate_Index</th>\n",
       "      <th>Retail_Sales_(Billion_USD)</th>\n",
       "      <th>Bankruptcy_Rate_(%)</th>\n",
       "      <th>Mergers_&amp;_Acquisitions_Deals</th>\n",
       "      <th>Venture_Capital_Funding_(Billion_USD)</th>\n",
       "      <th>Consumer_Spending_(Billion_USD)</th>\n",
       "    </tr>\n",
       "  </thead>\n",
       "  <tbody>\n",
       "    <tr>\n",
       "      <th>0</th>\n",
       "      <td>2000-01-01</td>\n",
       "      <td>Dow Jones</td>\n",
       "      <td>2128.75</td>\n",
       "      <td>2138.48</td>\n",
       "      <td>2143.70</td>\n",
       "      <td>2100.55</td>\n",
       "      <td>2670411</td>\n",
       "      <td>-0.37</td>\n",
       "      <td>6.06</td>\n",
       "      <td>6.10</td>\n",
       "      <td>...</td>\n",
       "      <td>1.04</td>\n",
       "      <td>119.87</td>\n",
       "      <td>47.20</td>\n",
       "      <td>1052.34</td>\n",
       "      <td>390.23</td>\n",
       "      <td>2229</td>\n",
       "      <td>2.12</td>\n",
       "      <td>3</td>\n",
       "      <td>76.64</td>\n",
       "      <td>4589</td>\n",
       "    </tr>\n",
       "    <tr>\n",
       "      <th>1</th>\n",
       "      <td>2000-01-02</td>\n",
       "      <td>S&amp;P 500</td>\n",
       "      <td>2046.82</td>\n",
       "      <td>2036.18</td>\n",
       "      <td>2082.83</td>\n",
       "      <td>2009.53</td>\n",
       "      <td>690220415</td>\n",
       "      <td>3.19</td>\n",
       "      <td>4.95</td>\n",
       "      <td>6.62</td>\n",
       "      <td>...</td>\n",
       "      <td>1.00</td>\n",
       "      <td>98.22</td>\n",
       "      <td>52.84</td>\n",
       "      <td>1957.73</td>\n",
       "      <td>346.23</td>\n",
       "      <td>4156</td>\n",
       "      <td>1.40</td>\n",
       "      <td>21</td>\n",
       "      <td>5.67</td>\n",
       "      <td>10101</td>\n",
       "    </tr>\n",
       "    <tr>\n",
       "      <th>2</th>\n",
       "      <td>2000-01-03</td>\n",
       "      <td>Dow Jones</td>\n",
       "      <td>1987.92</td>\n",
       "      <td>1985.26</td>\n",
       "      <td>2022.28</td>\n",
       "      <td>1978.37</td>\n",
       "      <td>315284661</td>\n",
       "      <td>5.54</td>\n",
       "      <td>9.13</td>\n",
       "      <td>2.60</td>\n",
       "      <td>...</td>\n",
       "      <td>0.83</td>\n",
       "      <td>80.13</td>\n",
       "      <td>78.80</td>\n",
       "      <td>2339.49</td>\n",
       "      <td>439.46</td>\n",
       "      <td>340</td>\n",
       "      <td>0.79</td>\n",
       "      <td>48</td>\n",
       "      <td>39.43</td>\n",
       "      <td>13665</td>\n",
       "    </tr>\n",
       "    <tr>\n",
       "      <th>3</th>\n",
       "      <td>2000-01-04</td>\n",
       "      <td>Dow Jones</td>\n",
       "      <td>4625.02</td>\n",
       "      <td>4660.47</td>\n",
       "      <td>4665.26</td>\n",
       "      <td>4595.46</td>\n",
       "      <td>13098297</td>\n",
       "      <td>10.00</td>\n",
       "      <td>3.77</td>\n",
       "      <td>2.20</td>\n",
       "      <td>...</td>\n",
       "      <td>0.95</td>\n",
       "      <td>149.15</td>\n",
       "      <td>28.18</td>\n",
       "      <td>1308.54</td>\n",
       "      <td>213.07</td>\n",
       "      <td>8456</td>\n",
       "      <td>4.22</td>\n",
       "      <td>16</td>\n",
       "      <td>12.83</td>\n",
       "      <td>5192</td>\n",
       "    </tr>\n",
       "    <tr>\n",
       "      <th>4</th>\n",
       "      <td>2000-01-05</td>\n",
       "      <td>S&amp;P 500</td>\n",
       "      <td>1998.18</td>\n",
       "      <td>1982.18</td>\n",
       "      <td>2044.31</td>\n",
       "      <td>1966.44</td>\n",
       "      <td>385306746</td>\n",
       "      <td>1.53</td>\n",
       "      <td>2.20</td>\n",
       "      <td>8.20</td>\n",
       "      <td>...</td>\n",
       "      <td>1.43</td>\n",
       "      <td>113.71</td>\n",
       "      <td>92.20</td>\n",
       "      <td>2210.08</td>\n",
       "      <td>405.49</td>\n",
       "      <td>1596</td>\n",
       "      <td>2.21</td>\n",
       "      <td>34</td>\n",
       "      <td>86.37</td>\n",
       "      <td>10688</td>\n",
       "    </tr>\n",
       "  </tbody>\n",
       "</table>\n",
       "<p>5 rows × 24 columns</p>\n",
       "</div>"
      ],
      "text/plain": [
       "         Date Stock_Index  Open_Price  Close_Price  Daily_High  Daily_Low  \\\n",
       "0  2000-01-01   Dow Jones     2128.75      2138.48     2143.70    2100.55   \n",
       "1  2000-01-02     S&P 500     2046.82      2036.18     2082.83    2009.53   \n",
       "2  2000-01-03   Dow Jones     1987.92      1985.26     2022.28    1978.37   \n",
       "3  2000-01-04   Dow Jones     4625.02      4660.47     4665.26    4595.46   \n",
       "4  2000-01-05     S&P 500     1998.18      1982.18     2044.31    1966.44   \n",
       "\n",
       "   Trading_Volume  GDP_Growth_(%)  Inflation_Rate_(%)  Unemployment_Rate_(%)  \\\n",
       "0         2670411           -0.37                6.06                   6.10   \n",
       "1       690220415            3.19                4.95                   6.62   \n",
       "2       315284661            5.54                9.13                   2.60   \n",
       "3        13098297           10.00                3.77                   2.20   \n",
       "4       385306746            1.53                2.20                   8.20   \n",
       "\n",
       "   ...  Forex_USD/EUR  Forex_USD/JPY  Crude_Oil_Price_(USD_per_Barrel)  \\\n",
       "0  ...           1.04         119.87                             47.20   \n",
       "1  ...           1.00          98.22                             52.84   \n",
       "2  ...           0.83          80.13                             78.80   \n",
       "3  ...           0.95         149.15                             28.18   \n",
       "4  ...           1.43         113.71                             92.20   \n",
       "\n",
       "   Gold_Price_(USD_per_Ounce)  Real_Estate_Index  Retail_Sales_(Billion_USD)  \\\n",
       "0                     1052.34             390.23                        2229   \n",
       "1                     1957.73             346.23                        4156   \n",
       "2                     2339.49             439.46                         340   \n",
       "3                     1308.54             213.07                        8456   \n",
       "4                     2210.08             405.49                        1596   \n",
       "\n",
       "   Bankruptcy_Rate_(%)  Mergers_&_Acquisitions_Deals  \\\n",
       "0                 2.12                             3   \n",
       "1                 1.40                            21   \n",
       "2                 0.79                            48   \n",
       "3                 4.22                            16   \n",
       "4                 2.21                            34   \n",
       "\n",
       "   Venture_Capital_Funding_(Billion_USD)  Consumer_Spending_(Billion_USD)  \n",
       "0                                  76.64                             4589  \n",
       "1                                   5.67                            10101  \n",
       "2                                  39.43                            13665  \n",
       "3                                  12.83                             5192  \n",
       "4                                  86.37                            10688  \n",
       "\n",
       "[5 rows x 24 columns]"
      ]
     },
     "execution_count": 20,
     "metadata": {},
     "output_type": "execute_result"
    }
   ],
   "source": [
    "df.head()"
   ]
  },
  {
   "cell_type": "code",
   "execution_count": 21,
   "id": "71f9163b-fd12-4e84-ab4d-0f9bdd304cf5",
   "metadata": {},
   "outputs": [
    {
     "data": {
      "text/plain": [
       "Stock_Index         S&P 500\n",
       "Trading_Volume    999977078\n",
       "Name: 641, dtype: object"
      ]
     },
     "execution_count": 21,
     "metadata": {},
     "output_type": "execute_result"
    }
   ],
   "source": [
    "df.loc[df['Trading_Volume'].idxmax(), ['Stock_Index', 'Trading_Volume']]\n",
    "\n"
   ]
  },
  {
   "cell_type": "code",
   "execution_count": 46,
   "id": "85108eee-eb9a-4bfc-b6cd-03161caa162b",
   "metadata": {},
   "outputs": [
    {
     "data": {
      "text/plain": [
       "Stock_Index\n",
       "S&P 500      1036\n",
       "NASDAQ       1007\n",
       "Dow Jones     957\n",
       "Name: count, dtype: int64"
      ]
     },
     "execution_count": 46,
     "metadata": {},
     "output_type": "execute_result"
    }
   ],
   "source": [
    "df['Stock_Index'].value_counts()"
   ]
  },
  {
   "cell_type": "code",
   "execution_count": 48,
   "id": "da002a9b-0eca-494e-8d88-58aa24543a3e",
   "metadata": {},
   "outputs": [
    {
     "name": "stdout",
     "output_type": "stream",
     "text": [
      "Correlation: 1.0\n"
     ]
    }
   ],
   "source": [
    "corr = df['Inflation_Rate_(%)'].corr(df['Inflation_Rate_(%)'])\n",
    "print(\"Correlation:\",corr)"
   ]
  },
  {
   "cell_type": "code",
   "execution_count": 50,
   "id": "b325fad7-0ba0-46e3-a332-d4eab7dd8be5",
   "metadata": {},
   "outputs": [
    {
     "data": {
      "text/plain": [
       "7551.278"
      ]
     },
     "execution_count": 50,
     "metadata": {},
     "output_type": "execute_result"
    }
   ],
   "source": [
    "df['Consumer_Spending_(Billion_USD)'].mean()"
   ]
  },
  {
   "cell_type": "code",
   "execution_count": 52,
   "id": "d596fc32-3022-486c-abd1-fb2d356b81f6",
   "metadata": {},
   "outputs": [
    {
     "data": {
      "text/plain": [
       "Trading_Volume    2.859004e+08\n",
       "dtype: float64"
      ]
     },
     "execution_count": 52,
     "metadata": {},
     "output_type": "execute_result"
    }
   ],
   "source": [
    "df.std(numeric_only=True).sort_values(ascending=False).head(1)"
   ]
  },
  {
   "cell_type": "code",
   "execution_count": 56,
   "id": "6eb2e92d-af2f-4251-9301-bdcc4fb727b6",
   "metadata": {},
   "outputs": [
    {
     "data": {
      "text/plain": [
       "Date                          2001-04-23\n",
       "Gold_Price_(USD_per_Ounce)       2499.66\n",
       "Name: 478, dtype: object"
      ]
     },
     "execution_count": 56,
     "metadata": {},
     "output_type": "execute_result"
    }
   ],
   "source": [
    "max_gold_idx = df['Gold_Price_(USD_per_Ounce)'].idxmax()\n",
    "df.loc[max_gold_idx, ['Date', 'Gold_Price_(USD_per_Ounce)']]\n"
   ]
  },
  {
   "cell_type": "code",
   "execution_count": 58,
   "id": "4d465a70-e0ba-4285-8a4e-9be2666b2b42",
   "metadata": {},
   "outputs": [
    {
     "data": {
      "text/plain": [
       "Date                                2001-11-22\n",
       "Crude_Oil_Price_(USD_per_Barrel)        149.87\n",
       "Name: 691, dtype: object"
      ]
     },
     "execution_count": 58,
     "metadata": {},
     "output_type": "execute_result"
    }
   ],
   "source": [
    "max_oil_idx = df['Crude_Oil_Price_(USD_per_Barrel)'].idxmax()\n",
    "df.loc[max_oil_idx, ['Date', 'Crude_Oil_Price_(USD_per_Barrel)']]\n"
   ]
  },
  {
   "cell_type": "code",
   "execution_count": 60,
   "id": "8a0f6c42-0a21-4c38-b3c4-2bc075ba1011",
   "metadata": {},
   "outputs": [
    {
     "data": {
      "text/plain": [
       "2553.7563333333333"
      ]
     },
     "execution_count": 60,
     "metadata": {},
     "output_type": "execute_result"
    }
   ],
   "source": [
    "df['Corporate_Profits_(Billion_USD)'].mean()\n"
   ]
  },
  {
   "cell_type": "code",
   "execution_count": 77,
   "id": "7e625593-89eb-42a0-a376-0efea5b8a7d8",
   "metadata": {},
   "outputs": [],
   "source": [
    "# Insightful Analysis Questions "
   ]
  },
  {
   "cell_type": "code",
   "execution_count": 79,
   "id": "cc1150d3-6409-4883-ab5d-1cc618b62777",
   "metadata": {},
   "outputs": [
    {
     "name": "stdout",
     "output_type": "stream",
     "text": [
      "31.566666666666666\n"
     ]
    }
   ],
   "source": [
    "negative_gdp = (df['GDP_Growth_(%)'] < 0).sum()\n",
    "total = len(df)\n",
    "percent_negative_gdp = (negative_gdp / total) * 100\n",
    "print(percent_negative_gdp)"
   ]
  },
  {
   "cell_type": "code",
   "execution_count": 81,
   "id": "519f6e7f-7185-4a0f-9833-f1fe153edcf8",
   "metadata": {},
   "outputs": [
    {
     "name": "stdout",
     "output_type": "stream",
     "text": [
      "0.005732927235576234\n"
     ]
    }
   ],
   "source": [
    "corr_infl_interest = df['Inflation_Rate_(%)'].corr(df['Interest_Rate_(%)'])\n",
    "print(corr_infl_interest)"
   ]
  },
  {
   "cell_type": "code",
   "execution_count": 83,
   "id": "1675b516-adae-4fce-898c-c22c709b88b9",
   "metadata": {},
   "outputs": [
    {
     "name": "stdout",
     "output_type": "stream",
     "text": [
      "0.042185705992545855\n"
     ]
    }
   ],
   "source": [
    "corr_unemp_sales = df['Unemployment_Rate_(%)'].corr(df['Retail_Sales_(Billion_USD)'])\n",
    "print( corr_unemp_sales)"
   ]
  },
  {
   "cell_type": "code",
   "execution_count": 85,
   "id": "72f3df24-c62e-4e09-9a03-4c1471315419",
   "metadata": {},
   "outputs": [
    {
     "name": "stdout",
     "output_type": "stream",
     "text": [
      "0.018008055888269578\n"
     ]
    }
   ],
   "source": [
    "corr_profit_conf = df['Corporate_Profits_(Billion_USD)'].corr(df['Consumer_Confidence_Index'])\n",
    "print( corr_profit_conf)\n"
   ]
  },
  {
   "cell_type": "code",
   "execution_count": 92,
   "id": "01ed04cc-7b6a-4b77-b7e9-96c2e4fd2f03",
   "metadata": {},
   "outputs": [
    {
     "data": {
      "image/png": "[encoded data removed]",
      "text/plain": [
       "<Figure size 640x480 with 1 Axes>"
      ]
     },
     "metadata": {},
     "output_type": "display_data"
    }
   ],
   "source": [
    "import matplotlib.pyplot as plt\n",
    "\n",
    "plt.plot(df['Date'], df['Crude_Oil_Price_(USD_per_Barrel)'])\n",
    "plt.title(\"Crude Oil Price Trend Over Time\")\n",
    "plt.xlabel(\"Date\")\n",
    "plt.ylabel(\"Crude Oil Price (USD/barrel)\")\n",
    "\n",
    "plt.show()\n"
   ]
  },
  {
   "cell_type": "code",
   "execution_count": 94,
   "id": "fe77e1d4-4044-43e1-8185-a5d237354907",
   "metadata": {},
   "outputs": [
    {
     "name": "stdout",
     "output_type": "stream",
     "text": [
      "-0.014543960422329263\n"
     ]
    }
   ],
   "source": [
    "corr_gold_close = df['Gold_Price_(USD_per_Ounce)'].corr(df['Close_Price'])\n",
    "print( corr_gold_close)\n"
   ]
  },
  {
   "cell_type": "code",
   "execution_count": 95,
   "id": "349bdb5a-f895-4ebd-9ac9-0fc54b146577",
   "metadata": {},
   "outputs": [
    {
     "name": "stdout",
     "output_type": "stream",
     "text": [
      "0.0026371007894390288\n"
     ]
    }
   ],
   "source": [
    "corr_ma_close = df['Mergers_&_Acquisitions_Deals'].corr(df['Close_Price'])\n",
    "print( corr_ma_close)\n"
   ]
  },
  {
   "cell_type": "code",
   "execution_count": 96,
   "id": "a56eb0c2-2c34-4fd1-83a3-32ff42c65733",
   "metadata": {},
   "outputs": [
    {
     "name": "stdout",
     "output_type": "stream",
     "text": [
      "-0.014287611445719918\n"
     ]
    }
   ],
   "source": [
    "corr_sales_gdp = df['Retail_Sales_(Billion_USD)'].corr(df['GDP_Growth_(%)'])\n",
    "print( corr_sales_gdp)\n"
   ]
  },
  {
   "cell_type": "code",
   "execution_count": 97,
   "id": "42f064ed-0e50-4ddc-9e33-8b2fda0b7e12",
   "metadata": {},
   "outputs": [
    {
     "name": "stdout",
     "output_type": "stream",
     "text": [
      "Stock_Index\n",
      "Dow Jones    3004.456447\n",
      "NASDAQ       2985.905015\n",
      "S&P 500      2955.286052\n",
      "Name: Close_Price, dtype: float64\n"
     ]
    }
   ],
   "source": [
    "avg_close_per_index = df.groupby('Stock_Index')['Close_Price'].mean()\n",
    "print(avg_close_per_index)\n"
   ]
  },
  {
   "cell_type": "code",
   "execution_count": 105,
   "id": "f54f7cf7-f1e6-428b-9ff4-0582ba45907b",
   "metadata": {},
   "outputs": [
    {
     "name": "stdout",
     "output_type": "stream",
     "text": [
      "0.018004072130972756\n"
     ]
    }
   ],
   "source": [
    "corr_interest_unemployment = df['Interest_Rate_(%)'].corr(df['Unemployment_Rate_(%)'])\n",
    "print( corr_interest_unemployment)\n"
   ]
  },
  {
   "cell_type": "code",
   "execution_count": 107,
   "id": "a1e5cc0b-a294-4dbe-bcfb-e80b05167dde",
   "metadata": {},
   "outputs": [
    {
     "name": "stdout",
     "output_type": "stream",
     "text": [
      "Close_Price                              1.000000\n",
      "Daily_High                               0.999821\n",
      "Daily_Low                                0.999820\n",
      "Open_Price                               0.999688\n",
      "Retail_Sales_(Billion_USD)               0.049370\n",
      "Bankruptcy_Rate_(%)                      0.029380\n",
      "Venture_Capital_Funding_(Billion_USD)    0.021414\n",
      "Interest_Rate_(%)                        0.020434\n",
      "Trading_Volume                           0.016283\n",
      "Consumer_Confidence_Index                0.013482\n",
      "Corporate_Profits_(Billion_USD)          0.008797\n",
      "Mergers_&_Acquisitions_Deals             0.002637\n",
      "Crude_Oil_Price_(USD_per_Barrel)         0.002563\n",
      "Consumer_Spending_(Billion_USD)          0.000376\n",
      "Unemployment_Rate_(%)                   -0.001907\n",
      "Government_Debt_(Billion_USD)           -0.007332\n",
      "Inflation_Rate_(%)                      -0.007972\n",
      "Real_Estate_Index                       -0.008639\n",
      "GDP_Growth_(%)                          -0.012748\n",
      "Gold_Price_(USD_per_Ounce)              -0.014544\n",
      "Forex_USD/JPY                           -0.016012\n",
      "Forex_USD/EUR                           -0.029384\n",
      "Name: Close_Price, dtype: float64\n"
     ]
    }
   ],
   "source": [
    "corr_with_close = df.corr(numeric_only=True)['Close_Price'].sort_values(ascending=False)\n",
    "print(corr_with_close)\n"
   ]
  },
  {
   "cell_type": "code",
   "execution_count": 109,
   "id": "82190a7f-b840-4c4b-9160-82145e00e2f0",
   "metadata": {},
   "outputs": [
    {
     "name": "stdout",
     "output_type": "stream",
     "text": [
      "0.00829241418823556\n"
     ]
    }
   ],
   "source": [
    "corr_unemployment_profit = df['Unemployment_Rate_(%)'].corr(df['Corporate_Profits_(Billion_USD)'])\n",
    "print( corr_unemployment_profit)\n"
   ]
  },
  {
   "cell_type": "code",
   "execution_count": null,
   "id": "08b27118-4a00-4b8e-9155-648564440a65",
   "metadata": {},
   "outputs": [],
   "source": []
  }
 ],
 "metadata": {
  "kernelspec": {
   "display_name": "Python [conda env:base] *",
   "language": "python",
   "name": "conda-base-py"
  },
  "language_info": {
   "codemirror_mode": {
    "name": "ipython",
    "version": 3
   },
   "file_extension": ".py",
   "mimetype": "text/x-python",
   "name": "python",
   "nbconvert_exporter": "python",
   "pygments_lexer": "ipython3",
   "version": "3.12.7"
  }
 },
 "nbformat": 4,
 "nbformat_minor": 5
}
